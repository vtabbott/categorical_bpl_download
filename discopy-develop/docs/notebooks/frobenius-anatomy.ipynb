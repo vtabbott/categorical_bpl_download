{
 "cells": [
  {
   "cell_type": "markdown",
   "metadata": {},
   "source": [
    "# frobenius-anatomy"
   ]
  },
  {
   "cell_type": "markdown",
   "metadata": {},
   "source": [
    "See Kartsaklis et al. _Reasoning about Meaning in Natural Language with Compact Closed Categories and Frobenius Algebras_ ([arXiv:1401.5980](https://arxiv.org/abs/1401.5980))"
   ]
  },
  {
   "cell_type": "code",
   "execution_count": 1,
   "metadata": {},
   "outputs": [
    {
     "data": {
      "image/png": "[encoded data removed]",
      "text/plain": [
       "<Figure size 432x288 with 1 Axes>"
      ]
     },
     "metadata": {},
     "output_type": "display_data"
    }
   ],
   "source": [
    "from discopy import Ty, Box, Id, drawing\n",
    "\n",
    "s, n = Ty('s'), Ty('n')\n",
    "\n",
    "class Frobenius(Box):\n",
    "    \"\"\"\n",
    "    Implements the boxes for Frobenius algebras.\n",
    "    \"\"\"\n",
    "    def __init__(self, n_legs_in, n_legs_out, _type=n):\n",
    "        assert len(_type) == 1 # for convenience, we only want spiders for atomic types\n",
    "        self._type = _type\n",
    "        dom, cod = _type ** n_legs_in, _type ** n_legs_out\n",
    "        self.draw_as_spider=True\n",
    "        self.color='black'\n",
    "        \n",
    "        super().__init__(\"\", dom, cod)  # special name so that Frobenius boxes get drawn as spiders.\n",
    "\n",
    "    def __repr__(self):\n",
    "        return \"Frobenius({}, {}, {})\".format(len(self.dom), len(self.cod), self._type)\n",
    "    \n",
    "    def __str__(self):\n",
    "        return repr(self)\n",
    "\n",
    "Frobenius_law = (\n",
    "    Frobenius(1, 2) @ Id(n) >> Id(n) @ Frobenius(2, 1),\n",
    "    Frobenius(2, 1) >> Frobenius(1, 2),\n",
    "    Id(n) @ Frobenius(1, 2) >> Frobenius(2, 1) @ Id(n))\n",
    "\n",
    "drawing.equation(*Frobenius_law)"
   ]
  },
  {
   "cell_type": "code",
   "execution_count": 2,
   "metadata": {},
   "outputs": [
    {
     "name": "stdout",
     "output_type": "stream",
     "text": [
      "Three ansätze for the transitive verb 'loves':\n"
     ]
    },
    {
     "data": {
      "image/png": "[encoded data removed]",
      "text/plain": [
       "<Figure size 864x144 with 1 Axes>"
      ]
     },
     "metadata": {},
     "output_type": "display_data"
    }
   ],
   "source": [
    "from discopy import Word, Cup\n",
    "\n",
    "Alice, loves, Bob = Word('Alice', n), Word('loves', n.r @ s @ n.l), Word('Bob', n)\n",
    "grammar = Cup(n, n.r) @ Id(s) @ Cup(n.l, n)\n",
    "sentence = Alice @ loves @ Bob >> grammar\n",
    "\n",
    "love_matrix, love_vector = Box('loves', Ty(), n @ n), Box('loves', Ty(), n)\n",
    "copy_subj = love_matrix >> Frobenius(1, 2) @ Id(n)\n",
    "copy_obj = love_matrix >> Id(n) @ Frobenius(1, 2)\n",
    "multp = love_vector >> Frobenius(1, 3)\n",
    "\n",
    "print(\"Three ansätze for the transitive verb 'loves':\")\n",
    "drawing.equation(copy_subj, copy_obj, multp, symbol=',   ', figsize=(12, 2))"
   ]
  },
  {
   "cell_type": "code",
   "execution_count": 3,
   "metadata": {},
   "outputs": [
    {
     "data": {
      "image/png": "[encoded data removed]",
      "text/plain": [
       "<Figure size 432x288 with 1 Axes>"
      ]
     },
     "metadata": {},
     "output_type": "display_data"
    },
    {
     "name": "stdout",
     "output_type": "stream",
     "text": [
      "Diagram for 'Alice loves Bob' with the copy_subj ansatz.\n"
     ]
    }
   ],
   "source": [
    "from discopy import Functor\n",
    "\n",
    "class Equal(Box):\n",
    "    \"\"\"\n",
    "    We need isomorphisms from types to their adjoint.\n",
    "    \"\"\"\n",
    "    def __init__(self, x, y):\n",
    "        super().__init__('=', x, y)\n",
    "\n",
    "F_copy_subj = Functor(\n",
    "    ob={n: n, s: n},\n",
    "    ar={\n",
    "        Alice: Alice,\n",
    "        Bob: Bob,\n",
    "        loves: copy_subj >> Equal(n, n.r) @ Id(n) @ Equal(n, n.l)})\n",
    "F_copy_subj(sentence).draw()\n",
    "print(\"Diagram for 'Alice loves Bob' with the copy_subj ansatz.\")"
   ]
  },
  {
   "cell_type": "code",
   "execution_count": 4,
   "metadata": {},
   "outputs": [
    {
     "data": {
      "text/plain": [
       "Tensor(dom=Dim(1), cod=Dim(2), array=[0., 1.])"
      ]
     },
     "execution_count": 4,
     "metadata": {},
     "output_type": "execute_result"
    }
   ],
   "source": [
    "import numpy as np\n",
    "\n",
    "from discopy import Dim, Tensor, TensorFunctor\n",
    "\n",
    "class FrobeniusFunctor(TensorFunctor):\n",
    "    \"\"\"\n",
    "    Implements functors into matrices that send abstract Frobenius boxes to their matrix.\n",
    "    \"\"\"\n",
    "    def __call__(self, diagram):\n",
    "        if isinstance(diagram, Frobenius):\n",
    "            dim = int(np.prod(self(diagram._type)))\n",
    "            dom, cod = self(diagram.dom), self(diagram.cod)\n",
    "            array = np.zeros(dom @ cod)\n",
    "            for i in range(dim):\n",
    "                one_hot = np.zeros(dim)\n",
    "                one_hot[i] = 1\n",
    "                basis_elem = Tensor(Dim(1), Dim(dim), one_hot)\n",
    "                state = Tensor.id(Dim(1)).tensor(*(len(dom) * [basis_elem]))\n",
    "                effect = Tensor.id(Dim(1)).tensor(*(len(cod) * [basis_elem.dagger()]))\n",
    "                array += (effect >> state).array\n",
    "            return Tensor(dom, cod, array)\n",
    "        if isinstance(diagram, Equal):\n",
    "            return Tensor.id(self(diagram.dom))\n",
    "        return super().__call__(diagram)\n",
    "\n",
    "ob, ar = {n: 2, s: 1}, {\n",
    "    Alice: [0, 1],\n",
    "    Bob: [1, 0],\n",
    "    loves: [0, 1, 1, 0],\n",
    "    love_matrix: [0, 1, 1, 0],\n",
    "    love_vector: [1, 1]}\n",
    "\n",
    "F = FrobeniusFunctor(ob, ar)\n",
    "\n",
    "assert F(Frobenius_law[0]) == F(Frobenius_law[1]) == F(Frobenius_law[2])\n",
    "\n",
    "\n",
    "F(F_copy_subj(sentence))"
   ]
  }
 ],
 "metadata": {
  "kernelspec": {
   "display_name": "Python 3",
   "language": "python",
   "name": "python3"
  },
  "language_info": {
   "codemirror_mode": {
    "name": "ipython",
    "version": 3
   },
   "file_extension": ".py",
   "mimetype": "text/x-python",
   "name": "python",
   "nbconvert_exporter": "python",
   "pygments_lexer": "ipython3",
   "version": "3.8.11"
  }
 },
 "nbformat": 4,
 "nbformat_minor": 2
}

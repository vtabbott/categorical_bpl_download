{
 "cells": [
  {
   "cell_type": "markdown",
   "metadata": {
    "id": "supported-drill"
   },
   "source": [
    "# Dataset"
   ]
  },
  {
   "cell_type": "code",
   "execution_count": 1,
   "metadata": {
    "id": "quick-mexican"
   },
   "outputs": [],
   "source": [
    "from discopy import Functor, Ty, Word, Id, Cup\n",
    "\n",
    "class WordBox(Word):\n",
    "    \"\"\" Word with Ty((name, cod)) as domain. \"\"\"\n",
    "    def __init__(self, name, cod):\n",
    "        super().__init__(name, cod, dom=Ty((name, cod)))\n",
    "\n",
    "\n",
    "def remove(word, sentence):\n",
    "    \"\"\"\n",
    "    Takes a WordBox and a sentence, replaces that box by an identity,\n",
    "    and every other WordBoxes by a standard Word with empty domain.\n",
    "    \"\"\"\n",
    "    def ob(x):\n",
    "        obj, = x\n",
    "        if not isinstance(obj.name, tuple):\n",
    "            return x  # Standard types get mapped to themselves.\n",
    "        if obj.name == (word.name, word.cod):\n",
    "            return word.cod\n",
    "        return Ty()  # Normal words have empty dom.\n",
    "\n",
    "    def ar(f):\n",
    "        if f == word:\n",
    "            return Id(word.cod)\n",
    "        return Word(f.name, f.cod)\n",
    "    return Functor(ob, ar)(sentence)\n",
    "\n",
    "# vocab\n",
    "s, n = Ty('s'), Ty('n')\n",
    "tv = n.r @ s @ n.l\n",
    "iv = n.r @ s\n",
    "p = s.r @ n.r.r @ n.r @ s @ n.l\n",
    "\n",
    "vocab = {\n",
    "    n: [\"dog\", \"cat\", \"mouse\", \"fox\", \"chicken\", \"grain\", \"cheese\", \"bone\", \"fish\", \"whale\", \"seal\", \"krill\", \"water\", \"land\"],\n",
    "    tv: [\"chases\", \"flees\", \"bites\", \"eats\"],\n",
    "    iv: [\"barks\", \"meows\", \"squeaks\", \"clucks\", \"chases\", \"runs\", \"swims\"],\n",
    "     p: [\"at\", \"after\", \"in\", \"on\"]\n",
    "}\n",
    "\n",
    "# grammars\n",
    "grammars = [Cup(n, n.r) @ Id(s),\n",
    "            Cup(n, n.r) @ Id(s) @ Cup(n.l, n), \n",
    "            (Id(n) @ Id(n.r) @ Cup(s, s.r) @ Id(n.r.r) @ Id(n.r) >> Id(n) @ Cup(n.r, n.r.r) @ Id(n.r) >> Cup(n, n.r)) @ Id(s) @ Cup(n.l, n)]\n",
    "\n",
    "# transitive sentences (grammars[1])\n",
    "trans_corpus = {\n",
    "    \"dog\": {\n",
    "        \"chases\": [\"cat\", \"fox\"],\n",
    "        \"bites\": [\"cat\", \"fox\", \"bone\"],\n",
    "        \"eats\": [\"bone\"]\n",
    "    },\n",
    "    \"cat\": {\n",
    "        \"chases\": [\"mouse\"],\n",
    "        \"flees\": [\"dog\"],\n",
    "        \"bites\": [\"mouse\", \"fish\"],\n",
    "        \"eats\": [\"fish\"]\n",
    "    },\n",
    "    \"mouse\": {\n",
    "        \"flees\": [\"cat\"],\n",
    "        \"bites\": [\"cheese\"],\n",
    "        \"eats\": [\"cheese\"]\n",
    "    },\n",
    "    \"fox\": {\n",
    "        \"chases\": [\"chicken\"],\n",
    "        \"flees\": [\"dog\"],\n",
    "        \"bites\": [\"chicken\"],\n",
    "        \"eats\": [\"chicken\"]\n",
    "    },\n",
    "    \"chicken\": {\n",
    "        \"flees\": [\"fox\"],\n",
    "        \"eats\": [\"grain\"]\n",
    "    },\n",
    "    \"whale\": {\n",
    "        \"eats\": [\"krill\"]\n",
    "    },\n",
    "    \"seal\": {\n",
    "        \"eats\": [\"fish\"]\n",
    "    }\n",
    "}\n",
    "\n",
    "# intransitive sentences (grammars[0, 2])\n",
    "itrans_corpus = {\n",
    "    \"dog\": {\n",
    "        \"runs\": {\n",
    "            \"on\": [\"land\"],\n",
    "            \"after\": [\"cat\", \"fox\"]\n",
    "        },\n",
    "        \"chases\": {\n",
    "            \"after\": [\"cat\", \"fox\"]\n",
    "        },\n",
    "        \"barks\": {\n",
    "            \"at\": [\"cat\", \"fox\"]\n",
    "        }\n",
    "      },\n",
    "      \"cat\": {\n",
    "          \"runs\": {\n",
    "              \"on\": [\"land\"],\n",
    "              \"after\": [\"mouse\"]\n",
    "          },\n",
    "          \"chases\": {\n",
    "              \"after\": [\"mouse\"]\n",
    "          },\n",
    "          \"meows\": { }\n",
    "      },\n",
    "      \"mouse\": {\n",
    "          \"runs\": {\n",
    "              \"on\": [\"land\"]\n",
    "          },\n",
    "          \"squeaks\": { }\n",
    "      },\n",
    "      \"fox\": {\n",
    "          \"runs\": {\n",
    "              \"on\": [\"land\"],\n",
    "              \"after\": [\"chicken\"]\n",
    "          },\n",
    "          \"chases\": {\n",
    "              \"after\": [\"chicken\"]\n",
    "          }\n",
    "      },\n",
    "      \"chicken\": {\n",
    "          \"runs\": {\n",
    "              \"on\": [\"land\"]\n",
    "          },\n",
    "          \"clucks\": { }\n",
    "      },\n",
    "      \"fish\": {\n",
    "          \"swims\": {\n",
    "              \"in\": [\"water\"]\n",
    "          }\n",
    "      },\n",
    "      \"whale\": {\n",
    "          \"swims\": {\n",
    "              \"in\": [\"water\"]\n",
    "          }\n",
    "      },\n",
    "      \"seal\": {\n",
    "          \"swims\": {\n",
    "              \"in\": [\"water\"]\n",
    "          },\n",
    "          \"runs\": {\n",
    "              \"on\": [\"land\"]\n",
    "          }\n",
    "      },\n",
    "}\n",
    "\n",
    "# data format: { sentence: (diagram, type, word : str) }\n",
    "dataset = {}\n",
    "for subj, verb_dict in trans_corpus.items():\n",
    "  subj_box = WordBox(subj, n)\n",
    "  for verb, dobjs in verb_dict.items():\n",
    "    verb_box = WordBox(verb, tv)\n",
    "    for dobj in dobjs:\n",
    "      dobj_box = WordBox(dobj, n)\n",
    "      diagram = subj_box @ verb_box @ dobj_box >> grammars[1]\n",
    "      dataset[f\"{subj} {verb} ?\"] = (remove(dobj_box, diagram), dobj_box.cod, dobj)\n",
    "      dataset[f\"{subj} ? {dobj}\"] = (remove(verb_box, diagram), verb_box.cod, verb)\n",
    "\n",
    "    \n",
    "for subj, verb_dict in itrans_corpus.items():\n",
    "  subj_box = WordBox(subj, n)\n",
    "  for verb, prep_dict in verb_dict.items():\n",
    "    verb_box = WordBox(verb, iv)\n",
    "    diagram = subj_box @ verb_box >> grammars[0]\n",
    "    dataset[f\"{subj} ?\"] = (remove(verb_box, diagram), verb_box.cod, verb)\n",
    "    dataset[f\"? {verb}\"] = (remove(subj_box, diagram), subj_box.cod, subj)\n",
    "\n",
    "    for prep, idobjs in prep_dict.items():\n",
    "      prep_box = WordBox(prep, p)\n",
    "      for idobj in idobjs:\n",
    "        idobj_box = WordBox(idobj, n)\n",
    "        diagram = subj_box @ verb_box @ prep_box @ idobj_box >> grammars[2]\n",
    "        dataset[f\"? {verb} {prep} {idobj}\"] = (remove(subj_box, diagram), subj_box.cod, subj)\n",
    "        dataset[f\"{subj} ? {prep} {idobj}\"] = (remove(verb_box, diagram), verb_box.cod, verb)\n",
    "        dataset[f\"{subj} {verb} ? {idobj}\"] = (remove(prep_box, diagram), prep_box.cod, prep)\n",
    "        dataset[f\"{subj} {verb} {prep} ?\"] = (remove(idobj_box, diagram), idobj_box.cod, idobj)"
   ]
  },
  {
   "cell_type": "markdown",
   "metadata": {
    "id": "fifty-spanking"
   },
   "source": [
    "# JAX"
   ]
  },
  {
   "cell_type": "code",
   "execution_count": 2,
   "metadata": {
    "id": "generic-capitol"
   },
   "outputs": [
    {
     "name": "stderr",
     "output_type": "stream",
     "text": [
      "WARNING:absl:No GPU/TPU found, falling back to CPU. (Set TF_CPP_MIN_LOG_LEVEL=0 and rerun for more info.)\n"
     ]
    }
   ],
   "source": [
    "import jax.numpy as jnp\n",
    "import jax.random as random\n",
    "from jax import grad, jit\n",
    "import jax.nn as jnn\n",
    "import jax.experimental.optimizers as jaxopt\n",
    "\n",
    "key = random.PRNGKey(0)"
   ]
  },
  {
   "cell_type": "markdown",
   "metadata": {
    "id": "lasting-convention"
   },
   "source": [
    "# Functorial Model"
   ]
  },
  {
   "cell_type": "code",
   "execution_count": 3,
   "metadata": {
    "id": "metric-variance"
   },
   "outputs": [],
   "source": [
    "from functools import partial\n",
    "\n",
    "from discopy.tensor import Functor as TensorFunctor\n",
    "\n",
    "\n",
    "def random_orthogonal(key, shape):\n",
    "    \"\"\" If shape is square, uses singular value decomposition\n",
    "    to generate a random orthogonal matrix. Otherwise, returns\n",
    "    a rectangular matrix with a high rate of orthogonal rows\n",
    "    and columns. Worked well empirically. \"\"\"\n",
    "    \n",
    "    H = random.normal(key, shape)\n",
    "    u, s, vh = jnp.linalg.svd(H, full_matrices=False)\n",
    "    O = u @ vh\n",
    "    return O\n",
    "\n",
    "\n",
    "class Functorial_Model:\n",
    "    def update_func(self): raise Exception('Not implemented.')\n",
    "    def loss_func(self): raise Exception('Not implemented.')\n",
    "    def acc_func(self): raise Exception('Not implemented.')\n",
    "    def predict_func(self): raise Exception('Not implemented.')\n",
    "\n",
    "        \n",
    "class FLM(Functorial_Model):\n",
    "    \n",
    "    def __init__(self, vocab, enc_dims, initializer=random_orthogonal):\n",
    "        \n",
    "        self.vocab = vocab\n",
    "        \n",
    "        self.encoding_matrices = {\n",
    "            ty: initializer(key, shape=(len(vocab[ty]), enc_dims[ty]))\n",
    "            for ty in vocab.keys()\n",
    "        }\n",
    "\n",
    "        self.functor = self.init_functor()\n",
    "    \n",
    "    \n",
    "    # Old optimizer implementation - now using jax optimizers\n",
    "    # @partial(jit, static_argnums=(0,))\n",
    "    # def update_func(self, params, X, y, learn_rate=0.3, **kwargs):\n",
    "    #     grads = grad(self.loss_func)(params, X, y, **kwargs)\n",
    "    #     return params - learn_rate * grads\n",
    "    \n",
    "    \n",
    "    @staticmethod\n",
    "    @jit\n",
    "    def loss_func(params, X, y, l1_reg=1e-2, l2_reg=1e-3, **kwargs):\n",
    "        \"\"\" Cross Entropy Loss with Regularization\n",
    "        Uses jax's log_softmax (which implements \"logsumexp trick\")\n",
    "        for numerical stability.\n",
    "        \"\"\"\n",
    "        return (-jnp.sum(y * jnn.log_softmax(X @ params.T, -1))\n",
    "                + l1_reg*jnp.sum(params)\n",
    "                + l2_reg*jnp.linalg.norm(params, ord=\"fro\"))\n",
    "\n",
    "\n",
    "    @partial(jit, static_argnums=(0,))\n",
    "    def acc_func(self, params, X, y):\n",
    "      \"\"\"\n",
    "      Accuracy is based prediction == label.\n",
    "      Note this is not strictly correct, since there might\n",
    "      be multiple valid predictions for the same diagram,\n",
    "      while a parsing of real-world data would only yield\n",
    "      a single label.\n",
    "      \"\"\"\n",
    "      predicted_class = jnp.argmax(self.predict_func(params, X), axis=-1)\n",
    "      target_class = jnp.argmax(y, axis=-1)\n",
    "      return jnp.mean(predicted_class == target_class)\n",
    "    \n",
    "    \n",
    "    @staticmethod\n",
    "    @jit\n",
    "    def predict_func(params, X):\n",
    "        \"\"\" Softmax of Activations\n",
    "        Returns probability distribution over vocab.\n",
    "        \"\"\"\n",
    "        return jnn.softmax(X @ params.T, -1)\n",
    "    \n",
    "    \n",
    "    def init_functor(self):\n",
    "        \"\"\" Initializes the functor. \"\"\"\n",
    "        # second dimensions of encoding matrices define object mapping\n",
    "        obj_map = {\n",
    "            ty: self.encoding_matrices[ty].shape[1] for ty in self.encoding_matrices.keys()\n",
    "        }\n",
    "        obj_map.update({s: 1})\n",
    "\n",
    "        # rows of encoding matrices define word vectors\n",
    "        arr_map = { }\n",
    "        for ty in self.vocab.keys():\n",
    "            arr_map.update({\n",
    "                Word(word, ty): self.encoding_matrices[ty][self.vocab[ty].index(word)]\n",
    "                for word in self.vocab[ty]\n",
    "            })\n",
    "\n",
    "        return TensorFunctor(obj_map, arr_map)\n",
    "\n",
    "\n",
    "    def _update_functor(self, word_type):\n",
    "      \"\"\"\n",
    "      Updates the functor for a given grammatical type.\n",
    "      \"\"\"\n",
    "      self.functor.ar.update({\n",
    "                Word(word, word_type): self.encoding_matrices[word_type][self.vocab[word_type].index(word)]\n",
    "                for word in self.vocab[word_type]\n",
    "            })\n",
    "    \n",
    "\n",
    "    def update_FLM(self, word_type, new_matrix):\n",
    "      \"\"\"\n",
    "      Updates both the encoding matrix and functor for a given grammatical type.\n",
    "      Use for consistency instead of _update_functor alone.\n",
    "      \"\"\"\n",
    "      self.encoding_matrices.update({ word_type: new_matrix })\n",
    "      self._update_functor(word_type)\n"
   ]
  },
  {
   "cell_type": "markdown",
   "metadata": {
    "id": "worse-lighting"
   },
   "source": [
    "# Utility Functions"
   ]
  },
  {
   "cell_type": "code",
   "execution_count": 4,
   "metadata": {
    "id": "religious-national"
   },
   "outputs": [],
   "source": [
    "def preprocess(dataset, vocab, split=0.8):\n",
    "    \"\"\"\n",
    "    Return train-test split data in the form:\n",
    "    { type: [[diagrams], [labels], [sentences]] }\n",
    "    \"\"\"\n",
    "    preproc = { t: [[], [], []] for t in vocab.keys() }\n",
    "    train = { t: [[], [], []] for t in vocab.keys() }\n",
    "    test = { t: [[], [], []] for t in vocab.keys() }\n",
    "    \n",
    "    for sentence, (diagram, word_type, word) in dataset.items():\n",
    "        preproc[word_type][0].append(diagram)\n",
    "        \n",
    "        label = jnp.array([i == vocab[word_type].index(word) for i in range(len(vocab[word_type]))])\n",
    "        preproc[word_type][1].append(label)\n",
    "\n",
    "        preproc[word_type][2].append(sentence)\n",
    "\n",
    "    # train test split\n",
    "    for word_type, [diagrams, labels, sentences] in preproc.items():\n",
    "        indices = random.permutation(key, len(diagrams))\n",
    "        max_train_idx = int(0.8*len(diagrams))\n",
    "        train_indices = indices[:max_train_idx]\n",
    "        test_indices = indices[max_train_idx:]\n",
    "        \n",
    "        train[word_type][0] = [diagrams[i] for i in train_indices]\n",
    "        train[word_type][1] = jnp.array([labels[i] for i in train_indices])\n",
    "        train[word_type][2] = [sentences[i] for i in train_indices]\n",
    "        test[word_type][0] = [diagrams[i] for i in test_indices]\n",
    "        test[word_type][1] = jnp.array([labels[i] for i in test_indices])\n",
    "        test[word_type][2] = [sentences[i] for i in test_indices]\n",
    "    \n",
    "    return train, test\n",
    "\n",
    "\n",
    "def fit(model, train_data, test_data=None, opt=jaxopt.sgd(5e-2), opt_steps=10, epochs=9, report_every=3, **kwargs):\n",
    "    \"\"\"\n",
    "    Fits the model with configurable hyperparameters.\n",
    "    Loss function also takes l1_reg and l2_reg parameters, which can be passed in via kwargs.\n",
    "    \"\"\"\n",
    "\n",
    "    for epoch in range(epochs):     \n",
    "        loss = 0\n",
    "        acc = 0\n",
    "        acc_div = 0\n",
    "        for word_type, (diagrams, labels, _) in train_data.items():\n",
    "            # from grammar to tensor\n",
    "            F = model.functor\n",
    "            X = jnp.array([F(diagram).array for diagram in diagrams])\n",
    "            # for transitive verbs\n",
    "            X = jnp.reshape(X, (len(diagrams), -1))\n",
    "            \n",
    "\n",
    "            # the update step\n",
    "            # JAX optimizers, use commented out \"update_func\" for ordinary gradient descent\n",
    "            opt_init, opt_update, get_params = opt\n",
    "            opt_state = opt_init(model.encoding_matrices[word_type])\n",
    "\n",
    "            def opt_step(step, opt_state, X, labels, **kwargs):\n",
    "              grads = grad(model.loss_func)(get_params(opt_state), X, labels, **kwargs)\n",
    "              opt_state = opt_update(step, grads, opt_state)\n",
    "              return opt_state\n",
    "\n",
    "            for step in range(opt_steps):\n",
    "              opt_state = opt_step(step, opt_state, X, labels, **kwargs)\n",
    "\n",
    "            # update the FLM\n",
    "            model.update_FLM(word_type, opt_state.packed_state[0][0])\n",
    "            \n",
    "            # --- OLD OPTIMIZATION --- #\n",
    "            # new_matrix = model.update_func(\n",
    "            #     model.encoding_matrices[word_type], X, labels, **kwargs\n",
    "            # )\n",
    "            # model.encoding_matrices.update({ word_type: new_matrix })\n",
    "            # ------------------------ #\n",
    "\n",
    "            if (epoch + 1) % report_every == 0:\n",
    "              # metrics\n",
    "              # normalize loss for train-test comparison\n",
    "              acc += model.acc_func(model.encoding_matrices[word_type], X, labels)\n",
    "              loss += model.loss_func(model.encoding_matrices[word_type], X, labels)/X.shape[0]\n",
    "              acc_div += 1\n",
    "\n",
    "        if (epoch+1) % report_every == 0:\n",
    "                print(f\"training loss after {epoch+1} epochs: {loss}\")\n",
    "                print(f\"training accuracy after {epoch+1} epochs: {acc/acc_div}\\n\")\n",
    "                if test_data:\n",
    "                  test_loss = 0\n",
    "                  test_acc = 0\n",
    "                  test_acc_div = 0\n",
    "                  for word_type, (diagrams, labels, _) in test_data.items():\n",
    "                    # same as above w/o update\n",
    "                    F = model.functor\n",
    "                    X = jnp.array([F(diagram).array for diagram in diagrams])\n",
    "                    X = jnp.reshape(X, (len(diagrams), -1))\n",
    "                    test_acc += model.acc_func(model.encoding_matrices[word_type], X, labels)\n",
    "                    test_loss += model.loss_func(model.encoding_matrices[word_type], X, labels)/X.shape[0]\n",
    "                    test_acc_div += 1\n",
    "                  print(f\"test loss: {test_loss}\")\n",
    "                print(f\"test accuracy: {test_acc/test_acc_div}\\n\")\n",
    "\n",
    "\n",
    "def show_results(model, *datasets):\n",
    "    F = model.functor\n",
    "    for dataset in datasets:\n",
    "      for word_type, (diagrams, labels, sentences) in dataset.items():\n",
    "          for diagram, label, sentence in zip(diagrams, labels, sentences):\n",
    "              x = jnp.array(F(diagram).array)\n",
    "\n",
    "              # for transitive verbs\n",
    "              x = jnp.reshape(x, (-1,))\n",
    "\n",
    "              probs = model.predict_func(\n",
    "                  model.encoding_matrices[word_type], x\n",
    "              )\n",
    "              pred = vocab[word_type][int(jnp.argmax(probs))]\n",
    "              (Word(\"?\", word_type) >> diagram).draw(figsize=(6,3))\n",
    "              actual = vocab[word_type][jnp.argmax(label)]\n",
    "              print(f\"sentence: {sentence}\\nprediction: {pred} | actual: {actual}\")\n",
    "              print(f\"\\ntop probabilities:\")\n",
    "              for i in jnp.argsort(probs)[-1:-5:-1]:\n",
    "                  print(f\"  {vocab[word_type][i]}: {probs[i]:.2f}\")\n",
    "              print(\"------------------\\n\")\n",
    "\n",
    "\n",
    "def show_results_compact(model, *datasets):\n",
    "    F = model.functor\n",
    "    for dataset in datasets:\n",
    "      for word_type, (diagrams, labels, sentences) in dataset.items():\n",
    "        for diagram, label, sentence in zip(diagrams, labels, sentences):\n",
    "            x = jnp.array(F(diagram).array)\n",
    "\n",
    "            # for transitive verbs\n",
    "            x = jnp.reshape(x, (-1,))\n",
    "\n",
    "            probs = model.predict_func(\n",
    "                model.encoding_matrices[word_type], x\n",
    "            )\n",
    "            pred = vocab[word_type][int(jnp.argmax(probs))]\n",
    "            actual = vocab[word_type][jnp.argmax(label)]\n",
    "\n",
    "            print(f\"{sentence}:  {pred} ({actual})\")\n",
    "            top_probs = ', '.join(\n",
    "                      [f\"{vocab[word_type][i]}: {probs[i]:.2f}\"\n",
    "                      for i in jnp.argsort(probs)[-1:-3:-1]]\n",
    "                      )\n",
    "            print(f\"[top probabilities: {top_probs}]\")\n",
    "            print(\"--------------\")"
   ]
  },
  {
   "cell_type": "markdown",
   "metadata": {
    "id": "parallel-refund"
   },
   "source": [
    "# Trying it out!"
   ]
  },
  {
   "cell_type": "code",
   "execution_count": 5,
   "metadata": {
    "colab": {
     "base_uri": "https://localhost:8080/"
    },
    "id": "unknown-butler",
    "outputId": "7b8f7ecd-90ad-4f0c-8f65-cddd0cd4b20e"
   },
   "outputs": [
    {
     "name": "stdout",
     "output_type": "stream",
     "text": [
      "training loss after 1 epochs: 3.8713934421539307\n",
      "training accuracy after 1 epochs: 0.682539701461792\n",
      "\n",
      "test loss: 5.8964338302612305\n",
      "test accuracy: 0.47196972370147705\n",
      "\n",
      "training loss after 2 epochs: 1.134953498840332\n",
      "training accuracy after 2 epochs: 0.863095223903656\n",
      "\n",
      "test loss: 2.5842647552490234\n",
      "test accuracy: 0.6030303239822388\n",
      "\n",
      "training loss after 3 epochs: 0.08608520030975342\n",
      "training accuracy after 3 epochs: 0.8948412537574768\n",
      "\n",
      "test loss: 3.1037299633026123\n",
      "test accuracy: 0.6738636493682861\n",
      "\n",
      "training loss after 4 epochs: -0.15781939029693604\n",
      "training accuracy after 4 epochs: 0.8690475821495056\n",
      "\n",
      "test loss: 0.24258899688720703\n",
      "test accuracy: 0.6284090876579285\n",
      "\n",
      "training loss after 5 epochs: -0.8782056570053101\n",
      "training accuracy after 5 epochs: 0.9007936716079712\n",
      "\n",
      "test loss: -4.0811944007873535\n",
      "test accuracy: 0.7590909004211426\n",
      "\n"
     ]
    }
   ],
   "source": [
    "# initialize the FLM\n",
    "noun_dim = len(vocab[n]) // 2\n",
    "enc_dims = {\n",
    "    n: noun_dim,\n",
    "    tv: noun_dim ** 2,\n",
    "    iv: noun_dim,\n",
    "    p: noun_dim ** 3\n",
    "}\n",
    "# try different initializations e.g. jnn.initializers.he_normal()\n",
    "# https://jax.readthedocs.io/en/latest/jax.nn.initializers.html\n",
    "flm = FLM(vocab, enc_dims, initializer=random_orthogonal)\n",
    "\n",
    "# get training and testing data\n",
    "train_data, test_data = preprocess(dataset, vocab)\n",
    "\n",
    "# JAX optimizer\n",
    "step_size=5e-2\n",
    "# try different optimization algos e.g. jaxopt.sgd(step_size)\n",
    "# https://jax.readthedocs.io/en/latest/jax.experimental.optimizers.html\n",
    "opt = jaxopt.adam(step_size)\n",
    "\n",
    "# fit the model\n",
    "# try messing around with the hyperparameters\n",
    "fit(flm, train_data, test_data, opt=opt, opt_steps=10, l1_reg=0.1, l2_reg=5e-2, epochs=5, report_every=1)"
   ]
  },
  {
   "cell_type": "markdown",
   "metadata": {
    "id": "eeAQTqHr75Bi"
   },
   "source": [
    "# Testing on _Unseen_ Sentences"
   ]
  },
  {
   "cell_type": "code",
   "execution_count": 6,
   "metadata": {
    "colab": {
     "base_uri": "https://localhost:8080/",
     "height": 1000
    },
    "id": "apparent-crawford",
    "outputId": "a300cf06-28c1-4567-bc60-11f12b6c0003"
   },
   "outputs": [
    {
     "data": {
      "image/png": "[encoded data removed]",
      "text/plain": [
       "<Figure size 432x216 with 1 Axes>"
      ]
     },
     "metadata": {
      "needs_background": "light"
     },
     "output_type": "display_data"
    },
    {
     "name": "stdout",
     "output_type": "stream",
     "text": [
      "sentence: ? runs after mouse\n",
      "prediction: cat | actual: cat\n",
      "\n",
      "top probabilities:\n",
      "  cat: 0.96\n",
      "  fox: 0.03\n",
      "  seal: 0.00\n",
      "  water: 0.00\n",
      "------------------\n",
      "\n"
     ]
    },
    {
     "data": {
      "image/png": "[encoded data removed]",
      "text/plain": [
       "<Figure size 432x216 with 1 Axes>"
      ]
     },
     "metadata": {
      "needs_background": "light"
     },
     "output_type": "display_data"
    },
    {
     "name": "stdout",
     "output_type": "stream",
     "text": [
      "sentence: ? runs on land\n",
      "prediction: land | actual: seal\n",
      "\n",
      "top probabilities:\n",
      "  land: 0.73\n",
      "  mouse: 0.13\n",
      "  dog: 0.05\n",
      "  water: 0.04\n",
      "------------------\n",
      "\n"
     ]
    },
    {
     "data": {
      "image/png": "[encoded data removed]",
      "text/plain": [
       "<Figure size 432x216 with 1 Axes>"
      ]
     },
     "metadata": {
      "needs_background": "light"
     },
     "output_type": "display_data"
    },
    {
     "name": "stdout",
     "output_type": "stream",
     "text": [
      "sentence: dog chases after ?\n",
      "prediction: cat | actual: fox\n",
      "\n",
      "top probabilities:\n",
      "  cat: 1.00\n",
      "  fox: 0.00\n",
      "  seal: 0.00\n",
      "  land: 0.00\n",
      "------------------\n",
      "\n"
     ]
    },
    {
     "data": {
      "image/png": "[encoded data removed]",
      "text/plain": [
       "<Figure size 432x216 with 1 Axes>"
      ]
     },
     "metadata": {
      "needs_background": "light"
     },
     "output_type": "display_data"
    },
    {
     "name": "stdout",
     "output_type": "stream",
     "text": [
      "sentence: ? barks at fox\n",
      "prediction: dog | actual: dog\n",
      "\n",
      "top probabilities:\n",
      "  dog: 0.88\n",
      "  land: 0.12\n",
      "  water: 0.00\n",
      "  mouse: 0.00\n",
      "------------------\n",
      "\n"
     ]
    },
    {
     "data": {
      "image/png": "[encoded data removed]",
      "text/plain": [
       "<Figure size 432x216 with 1 Axes>"
      ]
     },
     "metadata": {
      "needs_background": "light"
     },
     "output_type": "display_data"
    },
    {
     "name": "stdout",
     "output_type": "stream",
     "text": [
      "sentence: whale eats ?\n",
      "prediction: cheese | actual: krill\n",
      "\n",
      "top probabilities:\n",
      "  cheese: 0.53\n",
      "  fish: 0.17\n",
      "  grain: 0.10\n",
      "  bone: 0.05\n",
      "------------------\n",
      "\n"
     ]
    },
    {
     "data": {
      "image/png": "[encoded data removed]",
      "text/plain": [
       "<Figure size 432x216 with 1 Axes>"
      ]
     },
     "metadata": {
      "needs_background": "light"
     },
     "output_type": "display_data"
    },
    {
     "name": "stdout",
     "output_type": "stream",
     "text": [
      "sentence: fox flees ?\n",
      "prediction: dog | actual: dog\n",
      "\n",
      "top probabilities:\n",
      "  dog: 0.92\n",
      "  land: 0.04\n",
      "  cheese: 0.03\n",
      "  fish: 0.01\n",
      "------------------\n",
      "\n"
     ]
    },
    {
     "data": {
      "image/png": "[encoded data removed]",
      "text/plain": [
       "<Figure size 432x216 with 1 Axes>"
      ]
     },
     "metadata": {
      "needs_background": "light"
     },
     "output_type": "display_data"
    },
    {
     "name": "stdout",
     "output_type": "stream",
     "text": [
      "sentence: dog barks at ?\n",
      "prediction: fox | actual: fox\n",
      "\n",
      "top probabilities:\n",
      "  fox: 0.95\n",
      "  cat: 0.05\n",
      "  land: 0.00\n",
      "  krill: 0.00\n",
      "------------------\n",
      "\n"
     ]
    },
    {
     "data": {
      "image/png": "[encoded data removed]",
      "text/plain": [
       "<Figure size 432x216 with 1 Axes>"
      ]
     },
     "metadata": {
      "needs_background": "light"
     },
     "output_type": "display_data"
    },
    {
     "name": "stdout",
     "output_type": "stream",
     "text": [
      "sentence: seal swims in ?\n",
      "prediction: water | actual: water\n",
      "\n",
      "top probabilities:\n",
      "  water: 0.97\n",
      "  dog: 0.02\n",
      "  mouse: 0.01\n",
      "  seal: 0.00\n",
      "------------------\n",
      "\n"
     ]
    },
    {
     "data": {
      "image/png": "[encoded data removed]",
      "text/plain": [
       "<Figure size 432x216 with 1 Axes>"
      ]
     },
     "metadata": {
      "needs_background": "light"
     },
     "output_type": "display_data"
    },
    {
     "name": "stdout",
     "output_type": "stream",
     "text": [
      "sentence: chicken runs on ?\n",
      "prediction: land | actual: land\n",
      "\n",
      "top probabilities:\n",
      "  land: 0.60\n",
      "  dog: 0.36\n",
      "  fox: 0.03\n",
      "  water: 0.01\n",
      "------------------\n",
      "\n"
     ]
    },
    {
     "data": {
      "image/png": "[encoded data removed]",
      "text/plain": [
       "<Figure size 432x216 with 1 Axes>"
      ]
     },
     "metadata": {
      "needs_background": "light"
     },
     "output_type": "display_data"
    },
    {
     "name": "stdout",
     "output_type": "stream",
     "text": [
      "sentence: dog bites ?\n",
      "prediction: fox | actual: bone\n",
      "\n",
      "top probabilities:\n",
      "  fox: 0.99\n",
      "  cat: 0.01\n",
      "  fish: 0.00\n",
      "  chicken: 0.00\n",
      "------------------\n",
      "\n"
     ]
    },
    {
     "data": {
      "image/png": "[encoded data removed]",
      "text/plain": [
       "<Figure size 432x216 with 1 Axes>"
      ]
     },
     "metadata": {
      "needs_background": "light"
     },
     "output_type": "display_data"
    },
    {
     "name": "stdout",
     "output_type": "stream",
     "text": [
      "sentence: fox chases after ?\n",
      "prediction: chicken | actual: chicken\n",
      "\n",
      "top probabilities:\n",
      "  chicken: 1.00\n",
      "  mouse: 0.00\n",
      "  fish: 0.00\n",
      "  fox: 0.00\n",
      "------------------\n",
      "\n"
     ]
    },
    {
     "data": {
      "image/png": "[encoded data removed]",
      "text/plain": [
       "<Figure size 432x216 with 1 Axes>"
      ]
     },
     "metadata": {
      "needs_background": "light"
     },
     "output_type": "display_data"
    },
    {
     "name": "stdout",
     "output_type": "stream",
     "text": [
      "sentence: cat ? fish\n",
      "prediction: eats | actual: eats\n",
      "\n",
      "top probabilities:\n",
      "  eats: 0.60\n",
      "  bites: 0.35\n",
      "  flees: 0.05\n",
      "  chases: 0.00\n",
      "------------------\n",
      "\n"
     ]
    },
    {
     "data": {
      "image/png": "[encoded data removed]",
      "text/plain": [
       "<Figure size 432x216 with 1 Axes>"
      ]
     },
     "metadata": {
      "needs_background": "light"
     },
     "output_type": "display_data"
    },
    {
     "name": "stdout",
     "output_type": "stream",
     "text": [
      "sentence: dog ? cat\n",
      "prediction: bites | actual: bites\n",
      "\n",
      "top probabilities:\n",
      "  bites: 0.81\n",
      "  flees: 0.18\n",
      "  eats: 0.01\n",
      "  chases: 0.00\n",
      "------------------\n",
      "\n"
     ]
    },
    {
     "data": {
      "image/png": "[encoded data removed]",
      "text/plain": [
       "<Figure size 432x216 with 1 Axes>"
      ]
     },
     "metadata": {
      "needs_background": "light"
     },
     "output_type": "display_data"
    },
    {
     "name": "stdout",
     "output_type": "stream",
     "text": [
      "sentence: chicken ? fox\n",
      "prediction: flees | actual: flees\n",
      "\n",
      "top probabilities:\n",
      "  flees: 1.00\n",
      "  bites: 0.00\n",
      "  eats: 0.00\n",
      "  chases: 0.00\n",
      "------------------\n",
      "\n"
     ]
    },
    {
     "data": {
      "image/png": "[encoded data removed]",
      "text/plain": [
       "<Figure size 432x216 with 1 Axes>"
      ]
     },
     "metadata": {
      "needs_background": "light"
     },
     "output_type": "display_data"
    },
    {
     "name": "stdout",
     "output_type": "stream",
     "text": [
      "sentence: mouse ?\n",
      "prediction: clucks | actual: squeaks\n",
      "\n",
      "top probabilities:\n",
      "  clucks: 0.59\n",
      "  chases: 0.22\n",
      "  swims: 0.07\n",
      "  squeaks: 0.05\n",
      "------------------\n",
      "\n"
     ]
    },
    {
     "data": {
      "image/png": "[encoded data removed]",
      "text/plain": [
       "<Figure size 432x216 with 1 Axes>"
      ]
     },
     "metadata": {
      "needs_background": "light"
     },
     "output_type": "display_data"
    },
    {
     "name": "stdout",
     "output_type": "stream",
     "text": [
      "sentence: cat ?\n",
      "prediction: runs | actual: meows\n",
      "\n",
      "top probabilities:\n",
      "  runs: 0.30\n",
      "  meows: 0.21\n",
      "  chases: 0.19\n",
      "  squeaks: 0.11\n",
      "------------------\n",
      "\n"
     ]
    },
    {
     "data": {
      "image/png": "[encoded data removed]",
      "text/plain": [
       "<Figure size 432x216 with 1 Axes>"
      ]
     },
     "metadata": {
      "needs_background": "light"
     },
     "output_type": "display_data"
    },
    {
     "name": "stdout",
     "output_type": "stream",
     "text": [
      "sentence: fish ?\n",
      "prediction: chases | actual: swims\n",
      "\n",
      "top probabilities:\n",
      "  chases: 0.85\n",
      "  clucks: 0.05\n",
      "  runs: 0.05\n",
      "  barks: 0.03\n",
      "------------------\n",
      "\n"
     ]
    },
    {
     "data": {
      "image/png": "[encoded data removed]",
      "text/plain": [
       "<Figure size 432x216 with 1 Axes>"
      ]
     },
     "metadata": {
      "needs_background": "light"
     },
     "output_type": "display_data"
    },
    {
     "name": "stdout",
     "output_type": "stream",
     "text": [
      "sentence: fox ? after chicken\n",
      "prediction: chases | actual: chases\n",
      "\n",
      "top probabilities:\n",
      "  chases: 1.00\n",
      "  runs: 0.00\n",
      "  swims: 0.00\n",
      "  squeaks: 0.00\n",
      "------------------\n",
      "\n"
     ]
    },
    {
     "data": {
      "image/png": "[encoded data removed]",
      "text/plain": [
       "<Figure size 432x216 with 1 Axes>"
      ]
     },
     "metadata": {
      "needs_background": "light"
     },
     "output_type": "display_data"
    },
    {
     "name": "stdout",
     "output_type": "stream",
     "text": [
      "sentence: fish ? in water\n",
      "prediction: swims | actual: swims\n",
      "\n",
      "top probabilities:\n",
      "  swims: 0.97\n",
      "  runs: 0.02\n",
      "  barks: 0.01\n",
      "  squeaks: 0.01\n",
      "------------------\n",
      "\n"
     ]
    },
    {
     "data": {
      "image/png": "[encoded data removed]",
      "text/plain": [
       "<Figure size 432x216 with 1 Axes>"
      ]
     },
     "metadata": {
      "needs_background": "light"
     },
     "output_type": "display_data"
    },
    {
     "name": "stdout",
     "output_type": "stream",
     "text": [
      "sentence: cat chases ? mouse\n",
      "prediction: after | actual: after\n",
      "\n",
      "top probabilities:\n",
      "  after: 0.99\n",
      "  on: 0.01\n",
      "  in: 0.00\n",
      "  at: 0.00\n",
      "------------------\n",
      "\n"
     ]
    },
    {
     "data": {
      "image/png": "[encoded data removed]",
      "text/plain": [
       "<Figure size 432x216 with 1 Axes>"
      ]
     },
     "metadata": {
      "needs_background": "light"
     },
     "output_type": "display_data"
    },
    {
     "name": "stdout",
     "output_type": "stream",
     "text": [
      "sentence: mouse runs ? land\n",
      "prediction: on | actual: on\n",
      "\n",
      "top probabilities:\n",
      "  on: 1.00\n",
      "  in: 0.00\n",
      "  at: 0.00\n",
      "  after: 0.00\n",
      "------------------\n",
      "\n"
     ]
    },
    {
     "data": {
      "image/png": "[encoded data removed]",
      "text/plain": [
       "<Figure size 432x216 with 1 Axes>"
      ]
     },
     "metadata": {
      "needs_background": "light"
     },
     "output_type": "display_data"
    },
    {
     "name": "stdout",
     "output_type": "stream",
     "text": [
      "sentence: cat runs ? land\n",
      "prediction: on | actual: on\n",
      "\n",
      "top probabilities:\n",
      "  on: 0.99\n",
      "  after: 0.01\n",
      "  in: 0.00\n",
      "  at: 0.00\n",
      "------------------\n",
      "\n"
     ]
    },
    {
     "data": {
      "image/png": "[encoded data removed]",
      "text/plain": [
       "<Figure size 432x216 with 1 Axes>"
      ]
     },
     "metadata": {
      "needs_background": "light"
     },
     "output_type": "display_data"
    },
    {
     "name": "stdout",
     "output_type": "stream",
     "text": [
      "sentence: dog chases ? fox\n",
      "prediction: after | actual: after\n",
      "\n",
      "top probabilities:\n",
      "  after: 1.00\n",
      "  on: 0.00\n",
      "  in: 0.00\n",
      "  at: 0.00\n",
      "------------------\n",
      "\n"
     ]
    }
   ],
   "source": [
    "show_results(flm, test_data)"
   ]
  },
  {
   "cell_type": "markdown",
   "metadata": {
    "id": "vaCiRxSbdEUa"
   },
   "source": [
    "# Results on Whole Dataset"
   ]
  },
  {
   "cell_type": "code",
   "execution_count": 7,
   "metadata": {
    "colab": {
     "base_uri": "https://localhost:8080/"
    },
    "id": "UwNgSZ7zh_fr",
    "outputId": "95953050-2a62-44cf-ae71-51c4927c9c07"
   },
   "outputs": [
    {
     "name": "stdout",
     "output_type": "stream",
     "text": [
      "? runs after chicken:  fox (fox)\n",
      "[top probabilities: fox: 0.55, cat: 0.45]\n",
      "--------------\n",
      "mouse runs on ?:  dog (land)\n",
      "[top probabilities: dog: 0.69, land: 0.26]\n",
      "--------------\n",
      "seal eats ?:  fish (fish)\n",
      "[top probabilities: fish: 0.89, cheese: 0.08]\n",
      "--------------\n",
      "cat eats ?:  fish (fish)\n",
      "[top probabilities: fish: 0.77, fox: 0.13]\n",
      "--------------\n",
      "? runs after fox:  dog (dog)\n",
      "[top probabilities: dog: 0.53, water: 0.43]\n",
      "--------------\n",
      "dog runs after ?:  fox (fox)\n",
      "[top probabilities: fox: 0.94, cat: 0.06]\n",
      "--------------\n",
      "dog runs on ?:  dog (land)\n",
      "[top probabilities: dog: 0.92, land: 0.07]\n",
      "--------------\n",
      "? swims:  water (seal)\n",
      "[top probabilities: water: 0.26, dog: 0.14]\n",
      "--------------\n",
      "? squeaks:  water (mouse)\n",
      "[top probabilities: water: 0.27, dog: 0.13]\n",
      "--------------\n",
      "chicken eats ?:  cheese (grain)\n",
      "[top probabilities: cheese: 0.61, grain: 0.18]\n",
      "--------------\n",
      "fox chases ?:  cheese (chicken)\n",
      "[top probabilities: cheese: 0.62, fish: 0.19]\n",
      "--------------\n",
      "seal runs on ?:  dog (land)\n",
      "[top probabilities: dog: 0.67, land: 0.23]\n",
      "--------------\n",
      "cat chases ?:  cat (mouse)\n",
      "[top probabilities: cat: 0.39, chicken: 0.18]\n",
      "--------------\n",
      "cat runs on ?:  land (land)\n",
      "[top probabilities: land: 0.34, dog: 0.27]\n",
      "--------------\n",
      "? runs after cat:  water (dog)\n",
      "[top probabilities: water: 0.49, dog: 0.39]\n",
      "--------------\n",
      "cat runs after ?:  mouse (mouse)\n",
      "[top probabilities: mouse: 0.82, water: 0.09]\n",
      "--------------\n",
      "whale swims in ?:  water (water)\n",
      "[top probabilities: water: 0.69, dog: 0.13]\n",
      "--------------\n",
      "mouse flees ?:  cat (cat)\n",
      "[top probabilities: cat: 0.52, fish: 0.21]\n",
      "--------------\n",
      "dog eats ?:  cheese (bone)\n",
      "[top probabilities: cheese: 0.35, bone: 0.33]\n",
      "--------------\n",
      "fox runs on ?:  land (land)\n",
      "[top probabilities: land: 0.41, water: 0.29]\n",
      "--------------\n",
      "? chases after chicken:  fox (fox)\n",
      "[top probabilities: fox: 1.00, cat: 0.00]\n",
      "--------------\n",
      "? swims in water:  seal (seal)\n",
      "[top probabilities: seal: 0.86, water: 0.09]\n",
      "--------------\n",
      "fish swims in ?:  water (water)\n",
      "[top probabilities: water: 0.60, dog: 0.28]\n",
      "--------------\n",
      "cat chases after ?:  chicken (mouse)\n",
      "[top probabilities: chicken: 0.82, mouse: 0.17]\n",
      "--------------\n",
      "fox runs after ?:  mouse (chicken)\n",
      "[top probabilities: mouse: 0.76, water: 0.10]\n",
      "--------------\n",
      "fox bites ?:  chicken (chicken)\n",
      "[top probabilities: chicken: 0.52, fish: 0.23]\n",
      "--------------\n",
      "? barks at cat:  dog (dog)\n",
      "[top probabilities: dog: 0.94, land: 0.06]\n",
      "--------------\n",
      "? chases:  fox (fox)\n",
      "[top probabilities: fox: 0.69, fish: 0.12]\n",
      "--------------\n",
      "mouse bites ?:  cheese (cheese)\n",
      "[top probabilities: cheese: 0.59, fish: 0.34]\n",
      "--------------\n",
      "? chases after cat:  dog (dog)\n",
      "[top probabilities: dog: 0.98, water: 0.02]\n",
      "--------------\n",
      "? barks:  dog (dog)\n",
      "[top probabilities: dog: 0.82, land: 0.15]\n",
      "--------------\n",
      "? chases after fox:  fox (dog)\n",
      "[top probabilities: fox: 0.53, land: 0.45]\n",
      "--------------\n",
      "? chases after mouse:  fox (cat)\n",
      "[top probabilities: fox: 1.00, cat: 0.00]\n",
      "--------------\n",
      "? clucks:  chicken (chicken)\n",
      "[top probabilities: chicken: 0.96, mouse: 0.02]\n",
      "--------------\n",
      "mouse eats ?:  cheese (cheese)\n",
      "[top probabilities: cheese: 0.70, grain: 0.13]\n",
      "--------------\n",
      "cat bites ?:  fish (fish)\n",
      "[top probabilities: fish: 0.48, chicken: 0.36]\n",
      "--------------\n",
      "chicken flees ?:  fox (fox)\n",
      "[top probabilities: fox: 0.46, cat: 0.26]\n",
      "--------------\n",
      "fox eats ?:  chicken (chicken)\n",
      "[top probabilities: chicken: 0.88, grain: 0.06]\n",
      "--------------\n",
      "? meows:  water (cat)\n",
      "[top probabilities: water: 0.31, fox: 0.11]\n",
      "--------------\n",
      "dog chases ?:  fish (fox)\n",
      "[top probabilities: fish: 0.64, cheese: 0.18]\n",
      "--------------\n",
      "? runs:  seal (seal)\n",
      "[top probabilities: seal: 0.31, bone: 0.14]\n",
      "--------------\n",
      "cat flees ?:  dog (dog)\n",
      "[top probabilities: dog: 0.71, cheese: 0.21]\n",
      "--------------\n",
      "seal ? fish:  eats (eats)\n",
      "[top probabilities: eats: 1.00, bites: 0.00]\n",
      "--------------\n",
      "mouse ? cheese:  eats (eats)\n",
      "[top probabilities: eats: 0.99, bites: 0.01]\n",
      "--------------\n",
      "dog ? fox:  bites (bites)\n",
      "[top probabilities: bites: 1.00, chases: 0.00]\n",
      "--------------\n",
      "whale ? krill:  eats (eats)\n",
      "[top probabilities: eats: 0.79, flees: 0.08]\n",
      "--------------\n",
      "dog ? bone:  eats (eats)\n",
      "[top probabilities: eats: 1.00, chases: 0.00]\n",
      "--------------\n",
      "fox ? chicken:  eats (eats)\n",
      "[top probabilities: eats: 0.98, bites: 0.02]\n",
      "--------------\n",
      "chicken ? grain:  eats (eats)\n",
      "[top probabilities: eats: 0.99, bites: 0.01]\n",
      "--------------\n",
      "cat ? dog:  flees (flees)\n",
      "[top probabilities: flees: 1.00, bites: 0.00]\n",
      "--------------\n",
      "mouse ? cat:  flees (flees)\n",
      "[top probabilities: flees: 0.99, eats: 0.00]\n",
      "--------------\n",
      "cat ? mouse:  bites (bites)\n",
      "[top probabilities: bites: 0.98, flees: 0.01]\n",
      "--------------\n",
      "fox ? dog:  flees (flees)\n",
      "[top probabilities: flees: 1.00, bites: 0.00]\n",
      "--------------\n",
      "chicken ?:  clucks (clucks)\n",
      "[top probabilities: clucks: 0.98, chases: 0.02]\n",
      "--------------\n",
      "dog ?:  barks (barks)\n",
      "[top probabilities: barks: 0.98, swims: 0.01]\n",
      "--------------\n",
      "chicken ? on land:  runs (runs)\n",
      "[top probabilities: runs: 1.00, chases: 0.00]\n",
      "--------------\n",
      "whale ?:  runs (swims)\n",
      "[top probabilities: runs: 0.28, barks: 0.21]\n",
      "--------------\n",
      "mouse ? on land:  runs (runs)\n",
      "[top probabilities: runs: 1.00, chases: 0.00]\n",
      "--------------\n",
      "dog ? at cat:  barks (barks)\n",
      "[top probabilities: barks: 1.00, swims: 0.00]\n",
      "--------------\n",
      "seal ? on land:  runs (runs)\n",
      "[top probabilities: runs: 0.93, chases: 0.07]\n",
      "--------------\n",
      "cat ? on land:  runs (runs)\n",
      "[top probabilities: runs: 0.89, chases: 0.09]\n",
      "--------------\n",
      "whale ? in water:  swims (swims)\n",
      "[top probabilities: swims: 0.92, runs: 0.05]\n",
      "--------------\n",
      "dog ? at fox:  barks (barks)\n",
      "[top probabilities: barks: 1.00, swims: 0.00]\n",
      "--------------\n",
      "dog ? on land:  runs (runs)\n",
      "[top probabilities: runs: 1.00, chases: 0.00]\n",
      "--------------\n",
      "dog ? after fox:  chases (chases)\n",
      "[top probabilities: chases: 0.59, runs: 0.41]\n",
      "--------------\n",
      "fox ?:  chases (chases)\n",
      "[top probabilities: chases: 0.90, squeaks: 0.02]\n",
      "--------------\n",
      "seal ?:  runs (runs)\n",
      "[top probabilities: runs: 0.76, chases: 0.12]\n",
      "--------------\n",
      "seal ? in water:  swims (swims)\n",
      "[top probabilities: swims: 1.00, barks: 0.00]\n",
      "--------------\n",
      "cat ? after mouse:  chases (chases)\n",
      "[top probabilities: chases: 0.88, runs: 0.12]\n",
      "--------------\n",
      "fox ? on land:  runs (runs)\n",
      "[top probabilities: runs: 0.99, chases: 0.01]\n",
      "--------------\n",
      "dog ? after cat:  chases (chases)\n",
      "[top probabilities: chases: 1.00, runs: 0.00]\n",
      "--------------\n",
      "seal runs ? land:  on (on)\n",
      "[top probabilities: on: 0.99, in: 0.01]\n",
      "--------------\n",
      "seal swims ? water:  in (in)\n",
      "[top probabilities: in: 1.00, on: 0.00]\n",
      "--------------\n",
      "fish swims ? water:  in (in)\n",
      "[top probabilities: in: 1.00, after: 0.00]\n",
      "--------------\n",
      "fox runs ? land:  on (on)\n",
      "[top probabilities: on: 1.00, in: 0.00]\n",
      "--------------\n",
      "fox chases ? chicken:  after (after)\n",
      "[top probabilities: after: 1.00, on: 0.00]\n",
      "--------------\n",
      "fox runs ? chicken:  after (after)\n",
      "[top probabilities: after: 0.97, at: 0.02]\n",
      "--------------\n",
      "whale swims ? water:  in (in)\n",
      "[top probabilities: in: 0.99, after: 0.01]\n",
      "--------------\n",
      "dog runs ? cat:  after (after)\n",
      "[top probabilities: after: 0.99, at: 0.01]\n",
      "--------------\n",
      "cat runs ? mouse:  after (after)\n",
      "[top probabilities: after: 0.95, on: 0.03]\n",
      "--------------\n",
      "dog runs ? fox:  after (after)\n",
      "[top probabilities: after: 1.00, at: 0.00]\n",
      "--------------\n",
      "dog barks ? fox:  at (at)\n",
      "[top probabilities: at: 1.00, in: 0.00]\n",
      "--------------\n",
      "dog barks ? cat:  at (at)\n",
      "[top probabilities: at: 1.00, on: 0.00]\n",
      "--------------\n",
      "dog runs ? land:  on (on)\n",
      "[top probabilities: on: 1.00, in: 0.00]\n",
      "--------------\n",
      "chicken runs ? land:  on (on)\n",
      "[top probabilities: on: 1.00, in: 0.00]\n",
      "--------------\n",
      "dog chases ? cat:  after (after)\n",
      "[top probabilities: after: 1.00, on: 0.00]\n",
      "--------------\n",
      "? runs after mouse:  cat (cat)\n",
      "[top probabilities: cat: 0.96, fox: 0.03]\n",
      "--------------\n",
      "? runs on land:  land (seal)\n",
      "[top probabilities: land: 0.73, mouse: 0.13]\n",
      "--------------\n",
      "dog chases after ?:  cat (fox)\n",
      "[top probabilities: cat: 1.00, fox: 0.00]\n",
      "--------------\n",
      "? barks at fox:  dog (dog)\n",
      "[top probabilities: dog: 0.88, land: 0.12]\n",
      "--------------\n",
      "whale eats ?:  cheese (krill)\n",
      "[top probabilities: cheese: 0.53, fish: 0.17]\n",
      "--------------\n",
      "fox flees ?:  dog (dog)\n",
      "[top probabilities: dog: 0.92, land: 0.04]\n",
      "--------------\n",
      "dog barks at ?:  fox (fox)\n",
      "[top probabilities: fox: 0.95, cat: 0.05]\n",
      "--------------\n",
      "seal swims in ?:  water (water)\n",
      "[top probabilities: water: 0.97, dog: 0.02]\n",
      "--------------\n"
     ]
    },
    {
     "name": "stdout",
     "output_type": "stream",
     "text": [
      "chicken runs on ?:  land (land)\n",
      "[top probabilities: land: 0.60, dog: 0.36]\n",
      "--------------\n",
      "dog bites ?:  fox (bone)\n",
      "[top probabilities: fox: 0.99, cat: 0.01]\n",
      "--------------\n",
      "fox chases after ?:  chicken (chicken)\n",
      "[top probabilities: chicken: 1.00, mouse: 0.00]\n",
      "--------------\n",
      "cat ? fish:  eats (eats)\n",
      "[top probabilities: eats: 0.60, bites: 0.35]\n",
      "--------------\n",
      "dog ? cat:  bites (bites)\n",
      "[top probabilities: bites: 0.81, flees: 0.18]\n",
      "--------------\n",
      "chicken ? fox:  flees (flees)\n",
      "[top probabilities: flees: 1.00, bites: 0.00]\n",
      "--------------\n",
      "mouse ?:  clucks (squeaks)\n",
      "[top probabilities: clucks: 0.59, chases: 0.22]\n",
      "--------------\n",
      "cat ?:  runs (meows)\n",
      "[top probabilities: runs: 0.30, meows: 0.21]\n",
      "--------------\n",
      "fish ?:  chases (swims)\n",
      "[top probabilities: chases: 0.85, clucks: 0.05]\n",
      "--------------\n",
      "fox ? after chicken:  chases (chases)\n",
      "[top probabilities: chases: 1.00, runs: 0.00]\n",
      "--------------\n",
      "fish ? in water:  swims (swims)\n",
      "[top probabilities: swims: 0.97, runs: 0.02]\n",
      "--------------\n",
      "cat chases ? mouse:  after (after)\n",
      "[top probabilities: after: 0.99, on: 0.01]\n",
      "--------------\n",
      "mouse runs ? land:  on (on)\n",
      "[top probabilities: on: 1.00, in: 0.00]\n",
      "--------------\n",
      "cat runs ? land:  on (on)\n",
      "[top probabilities: on: 0.99, after: 0.01]\n",
      "--------------\n",
      "dog chases ? fox:  after (after)\n",
      "[top probabilities: after: 1.00, on: 0.00]\n",
      "--------------\n"
     ]
    }
   ],
   "source": [
    "show_results_compact(flm, train_data, test_data)"
   ]
  },
  {
   "cell_type": "code",
   "execution_count": null,
   "metadata": {
    "id": "COsjbdQvWum-"
   },
   "outputs": [],
   "source": []
  }
 ],
 "metadata": {
  "accelerator": "GPU",
  "colab": {
   "collapsed_sections": [
    "supported-drill",
    "fifty-spanking",
    "lasting-convention",
    "worse-lighting"
   ],
   "name": "FLM_OO.ipynb",
   "provenance": [],
   "toc_visible": true
  },
  "kernelspec": {
   "display_name": "Python 3",
   "language": "python",
   "name": "python3"
  },
  "language_info": {
   "codemirror_mode": {
    "name": "ipython",
    "version": 3
   },
   "file_extension": ".py",
   "mimetype": "text/x-python",
   "name": "python",
   "nbconvert_exporter": "python",
   "pygments_lexer": "ipython3",
   "version": "3.8.11"
  }
 },
 "nbformat": 4,
 "nbformat_minor": 5
}

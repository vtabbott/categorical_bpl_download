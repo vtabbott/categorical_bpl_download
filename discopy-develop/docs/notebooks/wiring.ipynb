{
 "cells": [
  {
   "cell_type": "code",
   "execution_count": 1,
   "id": "9e8e453c",
   "metadata": {},
   "outputs": [],
   "source": [
    "from discopy import monoidal, wiring"
   ]
  },
  {
   "cell_type": "code",
   "execution_count": 2,
   "id": "820758b8",
   "metadata": {},
   "outputs": [],
   "source": [
    "from discopy.monoidal import Ty"
   ]
  },
  {
   "cell_type": "code",
   "execution_count": 3,
   "id": "fb837469",
   "metadata": {},
   "outputs": [],
   "source": [
    "f1 = monoidal.Box('f_1', Ty('A', 'B'), Ty('C', 'D'))\n",
    "f2 = monoidal.Box('f_2', Ty('E', 'F'), Ty('G', 'H'))\n",
    "f3 = monoidal.Box('f_3', Ty('I'), Ty('J'))"
   ]
  },
  {
   "cell_type": "code",
   "execution_count": 4,
   "id": "344259cd",
   "metadata": {},
   "outputs": [],
   "source": [
    "g1 = monoidal.Box('g_1', Ty('C', 'D', 'G'), Ty('K'))\n",
    "g2 = monoidal.Box('g_2', Ty('H', 'J'), Ty('L'))"
   ]
  },
  {
   "cell_type": "code",
   "execution_count": 5,
   "id": "3973cf33",
   "metadata": {},
   "outputs": [],
   "source": [
    "example_diagram = (f1 @ f2 @ f3) >> (g1 @ g2)"
   ]
  },
  {
   "cell_type": "code",
   "execution_count": 6,
   "id": "ea490b81",
   "metadata": {},
   "outputs": [
    {
     "data": {
      "text/plain": [
       "Diagram(dom=Ty('A', 'B', 'E', 'F', 'I'), cod=Ty('K', 'L'), boxes=[Box('f_1', Ty('A', 'B'), Ty('C', 'D')), Box('f_2', Ty('E', 'F'), Ty('G', 'H')), Box('f_3', Ty('I'), Ty('J')), Box('g_1', Ty('C', 'D', 'G'), Ty('K')), Box('g_2', Ty('H', 'J'), Ty('L'))], offsets=[0, 2, 4, 0, 1])"
      ]
     },
     "execution_count": 6,
     "metadata": {},
     "output_type": "execute_result"
    }
   ],
   "source": [
    "example_diagram"
   ]
  },
  {
   "cell_type": "code",
   "execution_count": 7,
   "id": "0a67015c",
   "metadata": {},
   "outputs": [
    {
     "data": {
      "image/png": "[encoded data removed]",
      "text/plain": [
       "<Figure size 432x288 with 1 Axes>"
      ]
     },
     "metadata": {
      "needs_background": "light"
     },
     "output_type": "display_data"
    }
   ],
   "source": [
    "example_diagram.draw()"
   ]
  },
  {
   "cell_type": "code",
   "execution_count": 8,
   "id": "5bde15ea",
   "metadata": {},
   "outputs": [],
   "source": [
    "functor = wiring.WiringFunctor(typed=True)"
   ]
  },
  {
   "cell_type": "code",
   "execution_count": 9,
   "id": "3b1fab91",
   "metadata": {},
   "outputs": [],
   "source": [
    "diagram_wires = functor(example_diagram)"
   ]
  },
  {
   "cell_type": "code",
   "execution_count": 10,
   "id": "2462d8a0",
   "metadata": {},
   "outputs": [
    {
     "data": {
      "image/png": "[encoded data removed]",
      "text/plain": [
       "<Figure size 432x288 with 1 Axes>"
      ]
     },
     "metadata": {
      "needs_background": "light"
     },
     "output_type": "display_data"
    }
   ],
   "source": [
    "diagram_wires.draw()"
   ]
  },
  {
   "cell_type": "code",
   "execution_count": 11,
   "id": "efc7dd43",
   "metadata": {},
   "outputs": [
    {
     "data": {
      "text/plain": [
       "Sequential(arrows=[Parallel(factors=[Box('f_1', dom=Ty('A', 'B'), cod=Ty('C', 'D'), data=None), Box('f_2', dom=Ty('E', 'F'), cod=Ty('G', 'H'), data=None), Box('f_3', dom=Ty('I'), cod=Ty('J'), data=None)]), Parallel(factors=[Box('g_1', dom=Ty('C', 'D', 'G'), cod=Ty('K'), data=None), Box('g_2', dom=Ty('H', 'J'), cod=Ty('L'), data=None)])])"
      ]
     },
     "execution_count": 11,
     "metadata": {},
     "output_type": "execute_result"
    }
   ],
   "source": [
    "diagram_wires"
   ]
  },
  {
   "cell_type": "code",
   "execution_count": 12,
   "id": "01e1fe49",
   "metadata": {},
   "outputs": [],
   "source": [
    "functor = wiring.WiringFunctor(typed=False)"
   ]
  },
  {
   "cell_type": "code",
   "execution_count": 13,
   "id": "36c9955f",
   "metadata": {},
   "outputs": [],
   "source": [
    "diagram_wires = functor(example_diagram)"
   ]
  },
  {
   "cell_type": "code",
   "execution_count": 14,
   "id": "28223bae",
   "metadata": {},
   "outputs": [
    {
     "data": {
      "image/png": "[encoded data removed]",
      "text/plain": [
       "<Figure size 432x288 with 1 Axes>"
      ]
     },
     "metadata": {
      "needs_background": "light"
     },
     "output_type": "display_data"
    }
   ],
   "source": [
    "diagram_wires.draw()"
   ]
  },
  {
   "cell_type": "code",
   "execution_count": 15,
   "id": "d51bf854",
   "metadata": {},
   "outputs": [
    {
     "data": {
      "text/plain": [
       "Sequential(arrows=[Parallel(factors=[Box('f_1', dom=PRO(2), cod=PRO(1), data=None), Box('f_2', dom=PRO(2), cod=PRO(2), data=None), Box('f_3', dom=PRO(1), cod=PRO(1), data=None)]), Parallel(factors=[Box('g_1', dom=PRO(2), cod=PRO(1), data=None), Box('g_2', dom=PRO(2), cod=PRO(1), data=None)])])"
      ]
     },
     "execution_count": 15,
     "metadata": {},
     "output_type": "execute_result"
    }
   ],
   "source": [
    "diagram_wires"
   ]
  }
 ],
 "metadata": {
  "kernelspec": {
   "display_name": "Python 3",
   "language": "python",
   "name": "python3"
  },
  "language_info": {
   "codemirror_mode": {
    "name": "ipython",
    "version": 3
   },
   "file_extension": ".py",
   "mimetype": "text/x-python",
   "name": "python",
   "nbconvert_exporter": "python",
   "pygments_lexer": "ipython3",
   "version": "3.8.8"
  }
 },
 "nbformat": 4,
 "nbformat_minor": 5
}

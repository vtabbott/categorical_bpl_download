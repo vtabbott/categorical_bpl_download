{
 "cells": [
  {
   "cell_type": "markdown",
   "metadata": {},
   "source": [
    "# Diagram rewriting"
   ]
  },
  {
   "cell_type": "code",
   "execution_count": 1,
   "metadata": {},
   "outputs": [],
   "source": [
    "from discopy import Ty, Box, Id, Diagram\n",
    "\n",
    "folder = lambda file: '../_static/imgs/' + file\n",
    "params = dict(\n",
    "    aspect='auto',\n",
    "    loop=True,\n",
    "    draw_type_labels=False)"
   ]
  },
  {
   "cell_type": "markdown",
   "metadata": {},
   "source": [
    "## A simple circuit"
   ]
  },
  {
   "cell_type": "code",
   "execution_count": 2,
   "metadata": {
    "scrolled": false
   },
   "outputs": [
    {
     "data": {
      "text/html": [
       "<img src=\"../_static/imgs/simple-rewrite.gif\">"
      ],
      "text/plain": [
       "<IPython.core.display.HTML object>"
      ]
     },
     "execution_count": 2,
     "metadata": {},
     "output_type": "execute_result"
    }
   ],
   "source": [
    "x = Ty('x')\n",
    "copy, add = Box('copy', x, x @ x), Box('add', x @ x, x)\n",
    "CX = copy @ Id(x) >> Id(x) @ add\n",
    "XC = Id(x) @ copy >> add @ Id(x)\n",
    "diagram = CX @ XC >> XC @ CX\n",
    "rewrite_steps = diagram.normalize()\n",
    "\n",
    "diagram.to_gif(*rewrite_steps,\n",
    "               path=folder('simple-rewrite.gif'), **params)"
   ]
  },
  {
   "cell_type": "markdown",
   "metadata": {},
   "source": [
    "## Asymptotic worst-case"
   ]
  },
  {
   "cell_type": "code",
   "execution_count": 3,
   "metadata": {},
   "outputs": [
    {
     "data": {
      "text/html": [
       "<img src=\"../_static/imgs/spiral.gif\">"
      ],
      "text/plain": [
       "<IPython.core.display.HTML object>"
      ]
     },
     "execution_count": 3,
     "metadata": {},
     "output_type": "execute_result"
    }
   ],
   "source": [
    "def spiral(n_cups):\n",
    "    \"\"\"\n",
    "    Implements the asymptotic worst-case\n",
    "    for normal_form, see arXiv:1804.07832.\n",
    "    \"\"\"\n",
    "    x = Ty('x')\n",
    "    unit, counit = Box('unit', Ty(), x), Box('counit', x, Ty())\n",
    "    cup, cap = Box('cup', x @ x, Ty()), Box('cap', Ty(), x @ x)\n",
    "    result = unit\n",
    "    for i in range(n_cups):\n",
    "        result = result >> Id(x ** i) @ cap @ Id(x ** (i + 1))\n",
    "    result = result >> Id(x ** n_cups) @ counit @ Id(x ** n_cups)\n",
    "    for i in range(n_cups):\n",
    "        result = result >>\\\n",
    "            Id(x ** (n_cups - i - 1)) @ cup @ Id(x ** (n_cups - i - 1))\n",
    "    return result\n",
    "\n",
    "\n",
    "diagram = spiral(3)\n",
    "diagram.to_gif(*diagram.normalize(),\n",
    "               path=folder('spiral.gif'),\n",
    "               **dict(params, draw_box_labels=False, loop=True, aspect='equal'))"
   ]
  },
  {
   "cell_type": "markdown",
   "metadata": {},
   "source": [
    "## Snake removal"
   ]
  },
  {
   "cell_type": "code",
   "execution_count": 4,
   "metadata": {
    "scrolled": true
   },
   "outputs": [
    {
     "data": {
      "text/html": [
       "<img src=\"../_static/imgs/snake-removal.gif\">"
      ],
      "text/plain": [
       "<IPython.core.display.HTML object>"
      ]
     },
     "execution_count": 4,
     "metadata": {},
     "output_type": "execute_result"
    }
   ],
   "source": [
    "snake = Box('f', x @ x, x @ x)\\\n",
    "    .transpose(left=True).transpose(left=True)\\\n",
    "    .transpose().transpose()\n",
    "\n",
    "snake.to_gif(*snake.normalize(), **params,\n",
    "             path=folder('snake-removal.gif'))"
   ]
  }
 ],
 "metadata": {
  "kernelspec": {
   "display_name": "Python 3",
   "language": "python",
   "name": "python3"
  },
  "language_info": {
   "codemirror_mode": {
    "name": "ipython",
    "version": 3
   },
   "file_extension": ".py",
   "mimetype": "text/x-python",
   "name": "python",
   "nbconvert_exporter": "python",
   "pygments_lexer": "ipython3",
   "version": "3.8.5"
  }
 },
 "nbformat": 4,
 "nbformat_minor": 2
}

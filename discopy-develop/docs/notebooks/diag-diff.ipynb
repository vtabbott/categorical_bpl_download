{
 "cells": [
  {
   "cell_type": "markdown",
   "metadata": {},
   "source": [
    "# Diagrammatic Differentiation\n",
    "\n",
    "**Quantum Group Workshop**, _26th January 2021_\n",
    "\n",
    "Alexis Toumi, joint work with Richie Yeung and Giovanni de Felice"
   ]
  },
  {
   "cell_type": "markdown",
   "metadata": {},
   "source": [
    "## 1) Parametrised matrices\n",
    "\n",
    "Fix a rig $(\\mathbb{S}, +, \\times, 0, 1)$.\n",
    "\n",
    "**Definition:** A matrix $f \\in \\mathbf{Mat}_\\mathbb{S}(m, n)$ is a function $f : [m] \\times [n] \\to \\mathbb{S}$ where $[n] = \\{0, \\dots, n - 1\\}$ for $n \\in \\mathbb{N}$.\n",
    "\n",
    "**Definition:** A parametrised matrix is a function $f : \\mathbb{S} \\to \\mathbf{Mat}_\\mathbb{S}(m, n)$, or equivalently a function-valued matrix $f \\in \\mathbf{Mat}_{\\mathbb{S} \\to \\mathbb{S}}(m, n)$.\n",
    "\n",
    "**Example:**"
   ]
  },
  {
   "cell_type": "code",
   "execution_count": 1,
   "metadata": {},
   "outputs": [
    {
     "data": {
      "text/plain": [
       "array([[exp(-1.0*I*pi*phi), 0],\n",
       "       [0, exp(1.0*I*pi*phi)]], dtype=object)"
      ]
     },
     "execution_count": 1,
     "metadata": {},
     "output_type": "execute_result"
    }
   ],
   "source": [
    "from discopy import *\n",
    "from sympy.abc import phi\n",
    "\n",
    "Rz(phi).array"
   ]
  },
  {
   "cell_type": "code",
   "execution_count": 2,
   "metadata": {},
   "outputs": [
    {
     "data": {
      "text/plain": [
       "array([[0.70710678-0.70710678j, 0.        +0.j        ],\n",
       "       [0.        +0.j        , 0.70710678+0.70710678j]])"
      ]
     },
     "execution_count": 2,
     "metadata": {},
     "output_type": "execute_result"
    }
   ],
   "source": [
    "(lambda phi: Rz(phi).array)(0.25)"
   ]
  },
  {
   "cell_type": "markdown",
   "metadata": {},
   "source": [
    "## 2) Parametrised diagrams\n",
    "\n",
    "Fix a monoidal signature $(\\Sigma_0, \\Sigma_1, \\text{dom}, \\text{cod} : \\Sigma_1 \\to \\Sigma_0^\\star)$\n",
    "for $X^\\star = \\coprod_{n \\in \\mathbb{N}} X^n$ the free monoid.\n",
    "\n",
    "**Definition:** An _abstract_ diagram $d \\in \\mathbf{C}_\\Sigma(s, t)$ is defined by a list of\n",
    "$\\text{layers}(d) = (\\text{left}_0, \\text{box}_0, \\text{right}_0), \\dots, (\\text{left}_n, \\text{box}_n, \\text{right}_n) \\in \\Sigma_0^\\star \\times \\Sigma_1 \\times \\Sigma_0^\\star$."
   ]
  },
  {
   "cell_type": "markdown",
   "metadata": {},
   "source": [
    "**Definition:** A _concrete_ diagram is an abstract diagram with a monoidal functor $F : \\mathbf{C}_\\Sigma \\to \\mathbf{Mat}_\\mathbb{S}$.\n",
    "\n",
    "**Definition:** A _parametrised_ diagram is a function $d : \\mathbb{S} \\to \\mathbf{C}_\\Sigma(s, t)$, or equivalently, a diagram with a monoidal functor $F : \\mathbf{C}_\\Sigma \\to \\mathbf{Mat}_{\\mathbb{S} \\to \\mathbb{S}}$.\n",
    "\n",
    "**Example:**"
   ]
  },
  {
   "cell_type": "code",
   "execution_count": 3,
   "metadata": {},
   "outputs": [
    {
     "name": "stdout",
     "output_type": "stream",
     "text": [
      "f >> Id(Dim(2)) @ f >> g\n"
     ]
    },
    {
     "data": {
      "image/png": "[encoded data removed]",
      "text/plain": [
       "<Figure size 144x144 with 1 Axes>"
      ]
     },
     "metadata": {
      "needs_background": "light"
     },
     "output_type": "display_data"
    },
    {
     "data": {
      "text/plain": [
       "array([(phi + 1)*(1.0*phi + 1.0), 4.0*phi**2*(phi**2 + 1)], dtype=object)"
      ]
     },
     "execution_count": 3,
     "metadata": {},
     "output_type": "execute_result"
    }
   ],
   "source": [
    "from discopy import *\n",
    "\n",
    "x, y, z = Dim(1), Dim(2), Dim(2)\n",
    "f = tensor.Box('f', x, y, [phi + 1, -phi * 2])\n",
    "g = tensor.Box('g', y @ y, z, [1, 0, 0, 0, 0, 0, 0, phi ** 2 + 1])\n",
    "\n",
    "d = f @ f >> g\n",
    "print(d)\n",
    "d.draw(figsize=(2, 2))\n",
    "\n",
    "d.eval().array"
   ]
  },
  {
   "cell_type": "code",
   "execution_count": 4,
   "metadata": {},
   "outputs": [
    {
     "data": {
      "text/plain": [
       "array([1.56250000000000, 0.265625000000000], dtype=object)"
      ]
     },
     "execution_count": 4,
     "metadata": {},
     "output_type": "execute_result"
    }
   ],
   "source": [
    "d.subs(phi, 0.25).eval().array"
   ]
  },
  {
   "cell_type": "markdown",
   "metadata": {},
   "source": [
    "## 3) Product rule\n",
    "\n",
    "We define the gradient of a parametrised matrix $f \\in \\mathbf{Mat}_{\\mathbb{S} \\to \\mathbb{S}}(m, n)$ elementwise:\n",
    "$$\n",
    "\\frac{\\partial f}{\\partial x}(i, j)\n",
    "= \\frac{\\partial}{\\partial x} f(i, j)\n",
    "$$\n",
    "\n",
    "Given a parametrised diagram $d, F$ we want a new diagram $\\frac{\\partial d}{\\partial x}$ such that:\n",
    "$$\n",
    "F\\big(\\frac{\\partial d}{\\partial x}\\big)\n",
    "= \\frac{\\partial F(d)}{\\partial x}\n",
    "$$\n",
    "\n",
    "We can do this by defining gradients as _formal sums of diagrams_ and using the product rule:\n",
    "$$\n",
    "\\frac{\\partial}{\\partial x} (d \\otimes d')\n",
    "= \\frac{\\partial d}{\\partial x} \\otimes d'\n",
    "+ d \\otimes \\frac{\\partial d'}{\\partial x}\n",
    "$$\n",
    "$$\n",
    "\\frac{\\partial}{\\partial x} (d \\circ d')\n",
    "= \\frac{\\partial d}{\\partial x} \\circ d'\n",
    "+ d \\circ \\frac{\\partial d'}{\\partial x}\n",
    "$$\n",
    "\n",
    "**Example:**"
   ]
  },
  {
   "cell_type": "code",
   "execution_count": 5,
   "metadata": {},
   "outputs": [
    {
     "data": {
      "image/png": "[encoded data removed]",
      "text/plain": [
       "<Figure size 576x216 with 1 Axes>"
      ]
     },
     "metadata": {
      "needs_background": "light"
     },
     "output_type": "display_data"
    }
   ],
   "source": [
    "d.grad(phi).draw(figsize=(8, 3))"
   ]
  },
  {
   "cell_type": "markdown",
   "metadata": {},
   "source": [
    "## 4) Chain rule\n",
    "\n",
    "Given an arbitrary function $f : \\mathbb{S} \\to \\mathbb{S}$,\n",
    "we lift it to matrices by applying it elementwise.\n",
    "Diagrammatically, we represent this as a _bubble_ around a subdiagram.\n",
    "\n",
    "Gradients of bubbles are then given by the chain rule:\n",
    "\n",
    "$$\n",
    "\\frac{\\partial}{\\partial x} f(d)\n",
    "= \\frac{\\partial f}{\\partial x} (d)\n",
    "\\times \\frac{\\partial d}{\\partial x}\n",
    "$$\n",
    "\n",
    "where the elementwise product can be encoded as pre- and post-composition with spiders."
   ]
  },
  {
   "cell_type": "code",
   "execution_count": 6,
   "metadata": {},
   "outputs": [
    {
     "data": {
      "image/png": "[encoded data removed]",
      "text/plain": [
       "<Figure size 432x288 with 1 Axes>"
      ]
     },
     "metadata": {},
     "output_type": "display_data"
    }
   ],
   "source": [
    "g = tensor.Box('g', Dim(2), Dim(2), [2 * phi, 0, 0, phi + 1])\n",
    "f = lambda d: d.bubble(func=lambda x: x ** 2, drawing_name=\"f\")\n",
    "lhs, rhs = tensor.Box.grad(f(g), phi), f(g).grad(phi)\n",
    "drawing.equation(lhs, rhs, draw_type_labels=False)"
   ]
  },
  {
   "cell_type": "markdown",
   "metadata": {},
   "source": [
    "## 5) Applications\n",
    "\n",
    "* Gradients of quantum circuits using the parameter shift rule.\n",
    "* Gradients of neural nets and classical post-processing with bubbles.\n",
    "* Gradients of circuit functors for QNLP."
   ]
  }
 ],
 "metadata": {
  "kernelspec": {
   "display_name": "Python 3",
   "language": "python",
   "name": "python3"
  },
  "language_info": {
   "codemirror_mode": {
    "name": "ipython",
    "version": 3
   },
   "file_extension": ".py",
   "mimetype": "text/x-python",
   "name": "python",
   "nbconvert_exporter": "python",
   "pygments_lexer": "ipython3",
   "version": "3.8.11"
  }
 },
 "nbformat": 4,
 "nbformat_minor": 4
}

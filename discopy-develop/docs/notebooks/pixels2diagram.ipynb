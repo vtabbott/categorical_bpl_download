{
 "cells": [
  {
   "cell_type": "markdown",
   "metadata": {},
   "source": [
    "# pixels2diagram"
   ]
  },
  {
   "cell_type": "code",
   "execution_count": 1,
   "metadata": {},
   "outputs": [],
   "source": [
    "def spiral(n_cups):\n",
    "    \"\"\"\n",
    "    Implements the asymptotic worst-case for normal_form, see arXiv:1804.07832.\n",
    "    \"\"\"\n",
    "    x = Ty('x')\n",
    "    unit, counit = Box('unit', Ty(), x), Box('counit', x, Ty())\n",
    "    cup, cap = Box('cup', x @ x, Ty()), Box('cap', Ty(), x @ x)\n",
    "    for box in [unit, counit, cup, cap]:\n",
    "        box.draw_as_spider, box.color, box.drawing_name = True, \"red\", \"\"\n",
    "    result = unit\n",
    "    for i in range(n_cups):\n",
    "        result = result >> Id(x ** i) @ cap @ Id(x ** (i + 1))\n",
    "    result = result >> Id(x ** n_cups) @ counit @ Id(x ** n_cups)\n",
    "    for i in range(n_cups):\n",
    "        result = result >>\\\n",
    "            Id(x ** (n_cups - i - 1)) @ cup @ Id(x ** (n_cups - i - 1))\n",
    "    return result"
   ]
  },
  {
   "cell_type": "code",
   "execution_count": 2,
   "metadata": {},
   "outputs": [
    {
     "data": {
      "image/png": "[encoded data removed]",
      "text/plain": [
       "<PIL.PngImagePlugin.PngImageFile image mode=RGBA size=432x288 at 0x123C8A0A0>"
      ]
     },
     "execution_count": 2,
     "metadata": {},
     "output_type": "execute_result"
    }
   ],
   "source": [
    "from discopy import *\n",
    "from PIL import Image\n",
    "\n",
    "diagram = Box('f', Ty('x', 'x'), Ty('x', 'x', 'x'))\\\n",
    "    @ spiral(3)\n",
    "rewrites = list(diagram.normalize())\n",
    "diagram = rewrites[21]\n",
    "\n",
    "params = dict(\n",
    "    draw_type_labels=False,\n",
    "    draw_as_nodes=True,\n",
    "    draw_box_labels=False,\n",
    "    margins=(0.05, 0))\n",
    "\n",
    "diagram.draw(**params, path='../_static/imgs/test-pixels2diagram.png')\n",
    "img = Image.open('../_static/imgs/test-pixels2diagram.png')\n",
    "img"
   ]
  },
  {
   "cell_type": "code",
   "execution_count": 3,
   "metadata": {},
   "outputs": [
    {
     "name": "stdout",
     "output_type": "stream",
     "text": [
      "height, width, [red, blue, green, opacity]: (288, 432, 4)\n"
     ]
    }
   ],
   "source": [
    "import numpy as np\n",
    "\n",
    "arr = np.array(img)\n",
    "print(\"height, width, [red, blue, green, opacity]: {}\".format(arr.shape))"
   ]
  },
  {
   "cell_type": "code",
   "execution_count": 4,
   "metadata": {},
   "outputs": [
    {
     "name": "stdout",
     "output_type": "stream",
     "text": [
      "Found 8 boxes:\n"
     ]
    },
    {
     "data": {
      "image/png": "[encoded data removed]",
      "text/plain": [
       "<Figure size 576x576 with 1 Axes>"
      ]
     },
     "metadata": {
      "needs_background": "light"
     },
     "output_type": "display_data"
    }
   ],
   "source": [
    "from skimage import measure\n",
    "from matplotlib import pyplot as plt\n",
    "\n",
    "\n",
    "threshold = 200\n",
    "red = np.logical_and(arr[:, :, 0] > threshold,\n",
    "                     arr[:, :, 1] < threshold,\n",
    "                     arr[:, :, 2] < threshold)\n",
    "box_pixels, n_boxes = measure.label(red, return_num=True)\n",
    "print(\"Found {} boxes:\".format(n_boxes))\n",
    "\n",
    "plt.figure(figsize=(8, 8))\n",
    "plt.axis('off')\n",
    "plt.imshow(-box_pixels, cmap='cubehelix')\n",
    "plt.show()"
   ]
  },
  {
   "cell_type": "code",
   "execution_count": 5,
   "metadata": {},
   "outputs": [
    {
     "name": "stdout",
     "output_type": "stream",
     "text": [
      "Found 8 wires:\n"
     ]
    },
    {
     "data": {
      "image/png": "[encoded data removed]",
      "text/plain": [
       "<Figure size 432x432 with 1 Axes>"
      ]
     },
     "metadata": {
      "needs_background": "light"
     },
     "output_type": "display_data"
    }
   ],
   "source": [
    "wire_pixels, n_wires = measure.label(arr[:, :, 0] < threshold, return_num=True)\n",
    "print(\"Found {} wires:\".format(n_wires))\n",
    "\n",
    "plt.figure(figsize=(6, 6))\n",
    "plt.axis('off')\n",
    "plt.imshow(-wire_pixels, cmap='cubehelix')\n",
    "plt.show()"
   ]
  },
  {
   "cell_type": "code",
   "execution_count": 6,
   "metadata": {},
   "outputs": [
    {
     "name": "stdout",
     "output_type": "stream",
     "text": [
      "Connectivity (wires to boxes [1, ..., 9] or boundary [0, 10]):\n"
     ]
    },
    {
     "data": {
      "text/plain": [
       "{0: (0, 9),\n",
       " 1: (1, 7),\n",
       " 2: (1, 8),\n",
       " 3: (2, 8),\n",
       " 4: (2, 6),\n",
       " 5: (3, 6),\n",
       " 6: (3, 5),\n",
       " 7: (4, 7)}"
      ]
     },
     "execution_count": 6,
     "metadata": {},
     "output_type": "execute_result"
    }
   ],
   "source": [
    "box_properties = measure.regionprops(box_pixels)\n",
    "wire_properties = measure.regionprops(wire_pixels)\n",
    "\n",
    "critical_heights = np.array(\n",
    "    [0] + [box['centroid'][0] for box in box_properties] + [arr.shape[0]])\n",
    "\n",
    "def find_start_and_endpoints(wire):\n",
    "    start = np.argmin(np.abs(critical_heights - wire['coords'][0][0]))\n",
    "    end = np.argmin(np.abs(critical_heights - wire['coords'][-1][0]))\n",
    "    return (start, end)\n",
    "\n",
    "print(\"Connectivity (wires to boxes [1, ..., 9] or boundary [0, 10]):\")\n",
    "wires_to_boxes = {i: find_start_and_endpoints(wire) for i, wire in enumerate(wire_properties)}\n",
    "wires_to_boxes"
   ]
  },
  {
   "cell_type": "code",
   "execution_count": 7,
   "metadata": {},
   "outputs": [
    {
     "name": "stdout",
     "output_type": "stream",
     "text": [
      "Connectivity (boxes/boundary to wires):\n"
     ]
    },
    {
     "data": {
      "text/plain": [
       "{0: ([], [0]),\n",
       " 1: ([], [1, 2]),\n",
       " 2: ([], [3, 4]),\n",
       " 3: ([], [5, 6]),\n",
       " 4: ([], [7]),\n",
       " 5: ([6], []),\n",
       " 6: ([4, 5], []),\n",
       " 7: ([1, 7], []),\n",
       " 8: ([2, 3], []),\n",
       " 9: ([0], [])}"
      ]
     },
     "execution_count": 7,
     "metadata": {},
     "output_type": "execute_result"
    }
   ],
   "source": [
    "print(\"Connectivity (boxes/boundary to wires):\")\n",
    "boxes_to_wires = {i: ([wire for wire, (_, end) in wires_to_boxes.items() if end == i],\n",
    "                      [wire for wire, (start, _) in wires_to_boxes.items() if start == i])\n",
    "                  for i, _ in enumerate(critical_heights)}\n",
    "boxes_to_wires"
   ]
  },
  {
   "cell_type": "code",
   "execution_count": 8,
   "metadata": {},
   "outputs": [
    {
     "data": {
      "image/png": "[encoded data removed]",
      "text/plain": [
       "<Figure size 432x288 with 1 Axes>"
      ]
     },
     "metadata": {},
     "output_type": "display_data"
    }
   ],
   "source": [
    "scan = boxes_to_wires[0][1]\n",
    "result = Id(PRO(len(scan)))\n",
    "for i, box_data in enumerate(box_properties):\n",
    "    inputs, outputs = boxes_to_wires[i + 1]\n",
    "    depth, width = map(int, box_data['centroid'])\n",
    "    offset = len(set(wire_pixels[depth, :width]) - {wire + 1 for wire in inputs + outputs}) - 1\n",
    "    box = Box('box_{}'.format(i), PRO(len(inputs)), PRO(len(outputs)), draw_as_spider=True)\n",
    "    result = result\\\n",
    "        >> Id(PRO(offset)) @ box @ Id(PRO(len(scan) - len(inputs) - offset))\n",
    "    scan = scan[:offset] + outputs + scan[offset + len(inputs):]\n",
    "result.draw(**params)"
   ]
  },
  {
   "cell_type": "code",
   "execution_count": null,
   "metadata": {},
   "outputs": [],
   "source": []
  }
 ],
 "metadata": {
  "kernelspec": {
   "display_name": "Python 3",
   "language": "python",
   "name": "python3"
  },
  "language_info": {
   "codemirror_mode": {
    "name": "ipython",
    "version": 3
   },
   "file_extension": ".py",
   "mimetype": "text/x-python",
   "name": "python",
   "nbconvert_exporter": "python",
   "pygments_lexer": "ipython3",
   "version": "3.8.11"
  }
 },
 "nbformat": 4,
 "nbformat_minor": 2
}
